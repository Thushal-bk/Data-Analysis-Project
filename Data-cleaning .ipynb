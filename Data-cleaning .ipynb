{
 "cells": [
  {
   "cell_type": "markdown",
   "metadata": {},
   "source": [
    "# GROUP 48 || Project : Moving Rating Predictor"
   ]
  },
  {
   "cell_type": "markdown",
   "metadata": {},
   "source": [
    "### *We extracted the links, movie_medtadata and credits dataset from TMDB and ratings dataset was extracted from MovieLens. The links.csv file consisted of movieId, imdbId and tmdbId. The movies_metadata.csv file contained the most important content regarding budget of the movie, movie title, movie genre, imdbId, revenue, runtime, vote average, vote count, popularity of a movie, etc. The ratings.csv file provides information regarding userId, movieId, rating of a movie. The credits.csv file highlight information about cast, crew and id of a movie*"
   ]
  },
  {
   "cell_type": "code",
   "execution_count": 84,
   "metadata": {},
   "outputs": [],
   "source": [
    "#this our data cleaning notebook, we are going to merge our three working datasets into one. Also in this notebook we will make\n",
    "# a decision on NaN values\n"
   ]
  },
  {
   "cell_type": "code",
   "execution_count": 85,
   "metadata": {},
   "outputs": [],
   "source": [
    "import pandas as pd\n",
    "import numpy as np\n",
    "import warnings\n",
    "warnings.filterwarnings(\"ignore\")"
   ]
  },
  {
   "cell_type": "code",
   "execution_count": 6,
   "metadata": {
    "scrolled": true
   },
   "outputs": [],
   "source": [
    "linksdf = pd.read_csv('data/links.csv')\n",
    "moviedf = pd.read_csv('data/movies_metadata.csv')\n",
    "ratingsdf = pd.read_csv('data/ratings.csv')\n",
    "credits = pd.read_csv('data/credits.csv')"
   ]
  },
  {
   "cell_type": "code",
   "execution_count": 7,
   "metadata": {
    "scrolled": false
   },
   "outputs": [
    {
     "name": "stdout",
     "output_type": "stream",
     "text": [
      "Shape of links data: 45843\n",
      "shape of movie data: 45466\n",
      "shape of ratings data: 26024289\n"
     ]
    }
   ],
   "source": [
    "print('Shape of links data:', linksdf.shape[0])\n",
    "print('shape of movie data:', moviedf.shape[0])\n",
    "print('shape of ratings data:', ratingsdf.shape[0])"
   ]
  },
  {
   "cell_type": "markdown",
   "metadata": {},
   "source": [
    "# Data Cleaning"
   ]
  },
  {
   "cell_type": "markdown",
   "metadata": {},
   "source": [
    "### *Creating castingdf by obtaining actors and directors information from credits.csv file*"
   ]
  },
  {
   "cell_type": "markdown",
   "metadata": {},
   "source": [
    "### *Getting actors from the credits file*"
   ]
  },
  {
   "cell_type": "code",
   "execution_count": 8,
   "metadata": {
    "scrolled": false
   },
   "outputs": [
    {
     "data": {
      "text/html": [
       "<div>\n",
       "<style scoped>\n",
       "    .dataframe tbody tr th:only-of-type {\n",
       "        vertical-align: middle;\n",
       "    }\n",
       "\n",
       "    .dataframe tbody tr th {\n",
       "        vertical-align: top;\n",
       "    }\n",
       "\n",
       "    .dataframe thead th {\n",
       "        text-align: right;\n",
       "    }\n",
       "</style>\n",
       "<table border=\"1\" class=\"dataframe\">\n",
       "  <thead>\n",
       "    <tr style=\"text-align: right;\">\n",
       "      <th></th>\n",
       "      <th>cast</th>\n",
       "      <th>crew</th>\n",
       "      <th>id</th>\n",
       "    </tr>\n",
       "  </thead>\n",
       "  <tbody>\n",
       "    <tr>\n",
       "      <th>0</th>\n",
       "      <td>[{'cast_id': 14, 'character': 'Woody (voice)',...</td>\n",
       "      <td>[{'credit_id': '52fe4284c3a36847f8024f49', 'de...</td>\n",
       "      <td>862</td>\n",
       "    </tr>\n",
       "    <tr>\n",
       "      <th>1</th>\n",
       "      <td>[{'cast_id': 1, 'character': 'Alan Parrish', '...</td>\n",
       "      <td>[{'credit_id': '52fe44bfc3a36847f80a7cd1', 'de...</td>\n",
       "      <td>8844</td>\n",
       "    </tr>\n",
       "    <tr>\n",
       "      <th>2</th>\n",
       "      <td>[{'cast_id': 2, 'character': 'Max Goldman', 'c...</td>\n",
       "      <td>[{'credit_id': '52fe466a9251416c75077a89', 'de...</td>\n",
       "      <td>15602</td>\n",
       "    </tr>\n",
       "    <tr>\n",
       "      <th>3</th>\n",
       "      <td>[{'cast_id': 1, 'character': \"Savannah 'Vannah...</td>\n",
       "      <td>[{'credit_id': '52fe44779251416c91011acb', 'de...</td>\n",
       "      <td>31357</td>\n",
       "    </tr>\n",
       "    <tr>\n",
       "      <th>4</th>\n",
       "      <td>[{'cast_id': 1, 'character': 'George Banks', '...</td>\n",
       "      <td>[{'credit_id': '52fe44959251416c75039ed7', 'de...</td>\n",
       "      <td>11862</td>\n",
       "    </tr>\n",
       "  </tbody>\n",
       "</table>\n",
       "</div>"
      ],
      "text/plain": [
       "                                                cast  \\\n",
       "0  [{'cast_id': 14, 'character': 'Woody (voice)',...   \n",
       "1  [{'cast_id': 1, 'character': 'Alan Parrish', '...   \n",
       "2  [{'cast_id': 2, 'character': 'Max Goldman', 'c...   \n",
       "3  [{'cast_id': 1, 'character': \"Savannah 'Vannah...   \n",
       "4  [{'cast_id': 1, 'character': 'George Banks', '...   \n",
       "\n",
       "                                                crew     id  \n",
       "0  [{'credit_id': '52fe4284c3a36847f8024f49', 'de...    862  \n",
       "1  [{'credit_id': '52fe44bfc3a36847f80a7cd1', 'de...   8844  \n",
       "2  [{'credit_id': '52fe466a9251416c75077a89', 'de...  15602  \n",
       "3  [{'credit_id': '52fe44779251416c91011acb', 'de...  31357  \n",
       "4  [{'credit_id': '52fe44959251416c75039ed7', 'de...  11862  "
      ]
     },
     "execution_count": 8,
     "metadata": {},
     "output_type": "execute_result"
    }
   ],
   "source": [
    "\n",
    "credits.head()"
   ]
  },
  {
   "cell_type": "code",
   "execution_count": 9,
   "metadata": {},
   "outputs": [],
   "source": [
    "import ast\n",
    "credits['cast'] = credits['cast'].apply(ast.literal_eval)"
   ]
  },
  {
   "cell_type": "code",
   "execution_count": 10,
   "metadata": {},
   "outputs": [],
   "source": [
    "credits['cast_size'] = credits['cast'].apply(lambda x: len(x))\n"
   ]
  },
  {
   "cell_type": "code",
   "execution_count": 11,
   "metadata": {},
   "outputs": [],
   "source": [
    "credits['cast'] = credits['cast'].apply(lambda x: [i['name'] for i in x] if isinstance(x, list) else [])"
   ]
  },
  {
   "cell_type": "code",
   "execution_count": 12,
   "metadata": {
    "scrolled": true
   },
   "outputs": [
    {
     "name": "stderr",
     "output_type": "stream",
     "text": [
      "<ipython-input-12-c4dc3434c0f3>:1: DeprecationWarning: The default dtype for empty Series will be 'object' instead of 'float64' in a future version. Specify a dtype explicitly to silence this warning.\n",
      "  s = credits.apply(lambda x: pd.Series(x['cast']),axis=1).stack().reset_index(level=1, drop=True)\n"
     ]
    }
   ],
   "source": [
    "s = credits.apply(lambda x: pd.Series(x['cast']),axis=1).stack().reset_index(level=1, drop=True)\n",
    "s.name = 'actor'\n",
    "cast_df = credits.drop('cast', axis=1).join(s)"
   ]
  },
  {
   "cell_type": "code",
   "execution_count": 13,
   "metadata": {},
   "outputs": [],
   "source": [
    "castingdf = cast_df.drop_duplicates(subset=['id'], keep='first')"
   ]
  },
  {
   "cell_type": "code",
   "execution_count": 14,
   "metadata": {
    "scrolled": true
   },
   "outputs": [
    {
     "data": {
      "text/html": [
       "<div>\n",
       "<style scoped>\n",
       "    .dataframe tbody tr th:only-of-type {\n",
       "        vertical-align: middle;\n",
       "    }\n",
       "\n",
       "    .dataframe tbody tr th {\n",
       "        vertical-align: top;\n",
       "    }\n",
       "\n",
       "    .dataframe thead th {\n",
       "        text-align: right;\n",
       "    }\n",
       "</style>\n",
       "<table border=\"1\" class=\"dataframe\">\n",
       "  <thead>\n",
       "    <tr style=\"text-align: right;\">\n",
       "      <th></th>\n",
       "      <th>crew</th>\n",
       "      <th>id</th>\n",
       "      <th>cast_size</th>\n",
       "      <th>actor</th>\n",
       "    </tr>\n",
       "  </thead>\n",
       "  <tbody>\n",
       "    <tr>\n",
       "      <th>0</th>\n",
       "      <td>[{'credit_id': '52fe4284c3a36847f8024f49', 'de...</td>\n",
       "      <td>862</td>\n",
       "      <td>13</td>\n",
       "      <td>Tom Hanks</td>\n",
       "    </tr>\n",
       "    <tr>\n",
       "      <th>1</th>\n",
       "      <td>[{'credit_id': '52fe44bfc3a36847f80a7cd1', 'de...</td>\n",
       "      <td>8844</td>\n",
       "      <td>26</td>\n",
       "      <td>Robin Williams</td>\n",
       "    </tr>\n",
       "    <tr>\n",
       "      <th>2</th>\n",
       "      <td>[{'credit_id': '52fe466a9251416c75077a89', 'de...</td>\n",
       "      <td>15602</td>\n",
       "      <td>7</td>\n",
       "      <td>Walter Matthau</td>\n",
       "    </tr>\n",
       "    <tr>\n",
       "      <th>3</th>\n",
       "      <td>[{'credit_id': '52fe44779251416c91011acb', 'de...</td>\n",
       "      <td>31357</td>\n",
       "      <td>10</td>\n",
       "      <td>Whitney Houston</td>\n",
       "    </tr>\n",
       "    <tr>\n",
       "      <th>4</th>\n",
       "      <td>[{'credit_id': '52fe44959251416c75039ed7', 'de...</td>\n",
       "      <td>11862</td>\n",
       "      <td>12</td>\n",
       "      <td>Steve Martin</td>\n",
       "    </tr>\n",
       "  </tbody>\n",
       "</table>\n",
       "</div>"
      ],
      "text/plain": [
       "                                                crew     id  cast_size  \\\n",
       "0  [{'credit_id': '52fe4284c3a36847f8024f49', 'de...    862         13   \n",
       "1  [{'credit_id': '52fe44bfc3a36847f80a7cd1', 'de...   8844         26   \n",
       "2  [{'credit_id': '52fe466a9251416c75077a89', 'de...  15602          7   \n",
       "3  [{'credit_id': '52fe44779251416c91011acb', 'de...  31357         10   \n",
       "4  [{'credit_id': '52fe44959251416c75039ed7', 'de...  11862         12   \n",
       "\n",
       "             actor  \n",
       "0        Tom Hanks  \n",
       "1   Robin Williams  \n",
       "2   Walter Matthau  \n",
       "3  Whitney Houston  \n",
       "4     Steve Martin  "
      ]
     },
     "execution_count": 14,
     "metadata": {},
     "output_type": "execute_result"
    }
   ],
   "source": [
    "castingdf.head()"
   ]
  },
  {
   "cell_type": "markdown",
   "metadata": {},
   "source": [
    "### *Getting directors from the credits file*"
   ]
  },
  {
   "cell_type": "code",
   "execution_count": 15,
   "metadata": {},
   "outputs": [
    {
     "name": "stderr",
     "output_type": "stream",
     "text": [
      "<ipython-input-15-2ec3df0fc930>:1: SettingWithCopyWarning: \n",
      "A value is trying to be set on a copy of a slice from a DataFrame.\n",
      "Try using .loc[row_indexer,col_indexer] = value instead\n",
      "\n",
      "See the caveats in the documentation: https://pandas.pydata.org/pandas-docs/stable/user_guide/indexing.html#returning-a-view-versus-a-copy\n",
      "  castingdf['crew'] = castingdf['crew'].apply(ast.literal_eval)\n"
     ]
    }
   ],
   "source": [
    "castingdf['crew'] = castingdf['crew'].apply(ast.literal_eval)"
   ]
  },
  {
   "cell_type": "code",
   "execution_count": 16,
   "metadata": {},
   "outputs": [
    {
     "name": "stderr",
     "output_type": "stream",
     "text": [
      "<ipython-input-16-08f46432f65d>:1: SettingWithCopyWarning: \n",
      "A value is trying to be set on a copy of a slice from a DataFrame.\n",
      "Try using .loc[row_indexer,col_indexer] = value instead\n",
      "\n",
      "See the caveats in the documentation: https://pandas.pydata.org/pandas-docs/stable/user_guide/indexing.html#returning-a-view-versus-a-copy\n",
      "  castingdf['crew_size'] = castingdf['crew'].apply(lambda x: len(x))\n"
     ]
    }
   ],
   "source": [
    "castingdf['crew_size'] = castingdf['crew'].apply(lambda x: len(x))"
   ]
  },
  {
   "cell_type": "code",
   "execution_count": 17,
   "metadata": {},
   "outputs": [],
   "source": [
    "def get_director(x):\n",
    "    for i in x:\n",
    "        if i['job'] == 'Director':\n",
    "            return i['name']\n",
    "    return np.nan"
   ]
  },
  {
   "cell_type": "code",
   "execution_count": 18,
   "metadata": {
    "scrolled": true
   },
   "outputs": [
    {
     "name": "stderr",
     "output_type": "stream",
     "text": [
      "<ipython-input-18-fb440a245827>:1: SettingWithCopyWarning: \n",
      "A value is trying to be set on a copy of a slice from a DataFrame.\n",
      "Try using .loc[row_indexer,col_indexer] = value instead\n",
      "\n",
      "See the caveats in the documentation: https://pandas.pydata.org/pandas-docs/stable/user_guide/indexing.html#returning-a-view-versus-a-copy\n",
      "  castingdf['director'] = castingdf['crew'].apply(get_director)\n"
     ]
    }
   ],
   "source": [
    "castingdf['director'] = castingdf['crew'].apply(get_director)"
   ]
  },
  {
   "cell_type": "code",
   "execution_count": 19,
   "metadata": {
    "scrolled": true
   },
   "outputs": [
    {
     "data": {
      "text/html": [
       "<div>\n",
       "<style scoped>\n",
       "    .dataframe tbody tr th:only-of-type {\n",
       "        vertical-align: middle;\n",
       "    }\n",
       "\n",
       "    .dataframe tbody tr th {\n",
       "        vertical-align: top;\n",
       "    }\n",
       "\n",
       "    .dataframe thead th {\n",
       "        text-align: right;\n",
       "    }\n",
       "</style>\n",
       "<table border=\"1\" class=\"dataframe\">\n",
       "  <thead>\n",
       "    <tr style=\"text-align: right;\">\n",
       "      <th></th>\n",
       "      <th>crew</th>\n",
       "      <th>id</th>\n",
       "      <th>cast_size</th>\n",
       "      <th>actor</th>\n",
       "      <th>crew_size</th>\n",
       "      <th>director</th>\n",
       "    </tr>\n",
       "  </thead>\n",
       "  <tbody>\n",
       "    <tr>\n",
       "      <th>0</th>\n",
       "      <td>[{'credit_id': '52fe4284c3a36847f8024f49', 'de...</td>\n",
       "      <td>862</td>\n",
       "      <td>13</td>\n",
       "      <td>Tom Hanks</td>\n",
       "      <td>106</td>\n",
       "      <td>John Lasseter</td>\n",
       "    </tr>\n",
       "    <tr>\n",
       "      <th>1</th>\n",
       "      <td>[{'credit_id': '52fe44bfc3a36847f80a7cd1', 'de...</td>\n",
       "      <td>8844</td>\n",
       "      <td>26</td>\n",
       "      <td>Robin Williams</td>\n",
       "      <td>16</td>\n",
       "      <td>Joe Johnston</td>\n",
       "    </tr>\n",
       "    <tr>\n",
       "      <th>2</th>\n",
       "      <td>[{'credit_id': '52fe466a9251416c75077a89', 'de...</td>\n",
       "      <td>15602</td>\n",
       "      <td>7</td>\n",
       "      <td>Walter Matthau</td>\n",
       "      <td>4</td>\n",
       "      <td>Howard Deutch</td>\n",
       "    </tr>\n",
       "    <tr>\n",
       "      <th>3</th>\n",
       "      <td>[{'credit_id': '52fe44779251416c91011acb', 'de...</td>\n",
       "      <td>31357</td>\n",
       "      <td>10</td>\n",
       "      <td>Whitney Houston</td>\n",
       "      <td>10</td>\n",
       "      <td>Forest Whitaker</td>\n",
       "    </tr>\n",
       "    <tr>\n",
       "      <th>4</th>\n",
       "      <td>[{'credit_id': '52fe44959251416c75039ed7', 'de...</td>\n",
       "      <td>11862</td>\n",
       "      <td>12</td>\n",
       "      <td>Steve Martin</td>\n",
       "      <td>7</td>\n",
       "      <td>Charles Shyer</td>\n",
       "    </tr>\n",
       "  </tbody>\n",
       "</table>\n",
       "</div>"
      ],
      "text/plain": [
       "                                                crew     id  cast_size  \\\n",
       "0  [{'credit_id': '52fe4284c3a36847f8024f49', 'de...    862         13   \n",
       "1  [{'credit_id': '52fe44bfc3a36847f80a7cd1', 'de...   8844         26   \n",
       "2  [{'credit_id': '52fe466a9251416c75077a89', 'de...  15602          7   \n",
       "3  [{'credit_id': '52fe44779251416c91011acb', 'de...  31357         10   \n",
       "4  [{'credit_id': '52fe44959251416c75039ed7', 'de...  11862         12   \n",
       "\n",
       "             actor  crew_size         director  \n",
       "0        Tom Hanks        106    John Lasseter  \n",
       "1   Robin Williams         16     Joe Johnston  \n",
       "2   Walter Matthau          4    Howard Deutch  \n",
       "3  Whitney Houston         10  Forest Whitaker  \n",
       "4     Steve Martin          7    Charles Shyer  "
      ]
     },
     "execution_count": 19,
     "metadata": {},
     "output_type": "execute_result"
    }
   ],
   "source": [
    "castingdf.head()"
   ]
  },
  {
   "cell_type": "code",
   "execution_count": 20,
   "metadata": {},
   "outputs": [],
   "source": [
    "col_name=\"id\"\n",
    "first_col = castingdf.pop(col_name)\n",
    "castingdf.insert(0, col_name, first_col)"
   ]
  },
  {
   "cell_type": "markdown",
   "metadata": {},
   "source": [
    "### *Checking whether the changes were properly executed on dataset*"
   ]
  },
  {
   "cell_type": "code",
   "execution_count": 21,
   "metadata": {},
   "outputs": [
    {
     "data": {
      "text/html": [
       "<div>\n",
       "<style scoped>\n",
       "    .dataframe tbody tr th:only-of-type {\n",
       "        vertical-align: middle;\n",
       "    }\n",
       "\n",
       "    .dataframe tbody tr th {\n",
       "        vertical-align: top;\n",
       "    }\n",
       "\n",
       "    .dataframe thead th {\n",
       "        text-align: right;\n",
       "    }\n",
       "</style>\n",
       "<table border=\"1\" class=\"dataframe\">\n",
       "  <thead>\n",
       "    <tr style=\"text-align: right;\">\n",
       "      <th></th>\n",
       "      <th>id</th>\n",
       "      <th>crew</th>\n",
       "      <th>cast_size</th>\n",
       "      <th>actor</th>\n",
       "      <th>crew_size</th>\n",
       "      <th>director</th>\n",
       "    </tr>\n",
       "  </thead>\n",
       "  <tbody>\n",
       "    <tr>\n",
       "      <th>0</th>\n",
       "      <td>862</td>\n",
       "      <td>[{'credit_id': '52fe4284c3a36847f8024f49', 'de...</td>\n",
       "      <td>13</td>\n",
       "      <td>Tom Hanks</td>\n",
       "      <td>106</td>\n",
       "      <td>John Lasseter</td>\n",
       "    </tr>\n",
       "    <tr>\n",
       "      <th>1</th>\n",
       "      <td>8844</td>\n",
       "      <td>[{'credit_id': '52fe44bfc3a36847f80a7cd1', 'de...</td>\n",
       "      <td>26</td>\n",
       "      <td>Robin Williams</td>\n",
       "      <td>16</td>\n",
       "      <td>Joe Johnston</td>\n",
       "    </tr>\n",
       "    <tr>\n",
       "      <th>2</th>\n",
       "      <td>15602</td>\n",
       "      <td>[{'credit_id': '52fe466a9251416c75077a89', 'de...</td>\n",
       "      <td>7</td>\n",
       "      <td>Walter Matthau</td>\n",
       "      <td>4</td>\n",
       "      <td>Howard Deutch</td>\n",
       "    </tr>\n",
       "    <tr>\n",
       "      <th>3</th>\n",
       "      <td>31357</td>\n",
       "      <td>[{'credit_id': '52fe44779251416c91011acb', 'de...</td>\n",
       "      <td>10</td>\n",
       "      <td>Whitney Houston</td>\n",
       "      <td>10</td>\n",
       "      <td>Forest Whitaker</td>\n",
       "    </tr>\n",
       "    <tr>\n",
       "      <th>4</th>\n",
       "      <td>11862</td>\n",
       "      <td>[{'credit_id': '52fe44959251416c75039ed7', 'de...</td>\n",
       "      <td>12</td>\n",
       "      <td>Steve Martin</td>\n",
       "      <td>7</td>\n",
       "      <td>Charles Shyer</td>\n",
       "    </tr>\n",
       "    <tr>\n",
       "      <th>...</th>\n",
       "      <td>...</td>\n",
       "      <td>...</td>\n",
       "      <td>...</td>\n",
       "      <td>...</td>\n",
       "      <td>...</td>\n",
       "      <td>...</td>\n",
       "    </tr>\n",
       "    <tr>\n",
       "      <th>45471</th>\n",
       "      <td>439050</td>\n",
       "      <td>[{'credit_id': '5894a97d925141426c00818c', 'de...</td>\n",
       "      <td>3</td>\n",
       "      <td>Leila Hatami</td>\n",
       "      <td>9</td>\n",
       "      <td>Hamid Nematollah</td>\n",
       "    </tr>\n",
       "    <tr>\n",
       "      <th>45472</th>\n",
       "      <td>111109</td>\n",
       "      <td>[{'credit_id': '52fe4af1c3a36847f81e9b15', 'de...</td>\n",
       "      <td>11</td>\n",
       "      <td>Angel Aquino</td>\n",
       "      <td>6</td>\n",
       "      <td>Lav Diaz</td>\n",
       "    </tr>\n",
       "    <tr>\n",
       "      <th>45473</th>\n",
       "      <td>67758</td>\n",
       "      <td>[{'credit_id': '52fe4776c3a368484e0c8387', 'de...</td>\n",
       "      <td>15</td>\n",
       "      <td>Erika Eleniak</td>\n",
       "      <td>5</td>\n",
       "      <td>Mark L. Lester</td>\n",
       "    </tr>\n",
       "    <tr>\n",
       "      <th>45474</th>\n",
       "      <td>227506</td>\n",
       "      <td>[{'credit_id': '533bccebc3a36844cf0011a7', 'de...</td>\n",
       "      <td>5</td>\n",
       "      <td>Iwan Mosschuchin</td>\n",
       "      <td>2</td>\n",
       "      <td>Yakov Protazanov</td>\n",
       "    </tr>\n",
       "    <tr>\n",
       "      <th>45475</th>\n",
       "      <td>461257</td>\n",
       "      <td>[{'credit_id': '593e676c92514105b702e68e', 'de...</td>\n",
       "      <td>0</td>\n",
       "      <td>NaN</td>\n",
       "      <td>1</td>\n",
       "      <td>Daisy Asquith</td>\n",
       "    </tr>\n",
       "  </tbody>\n",
       "</table>\n",
       "<p>45432 rows × 6 columns</p>\n",
       "</div>"
      ],
      "text/plain": [
       "           id                                               crew  cast_size  \\\n",
       "0         862  [{'credit_id': '52fe4284c3a36847f8024f49', 'de...         13   \n",
       "1        8844  [{'credit_id': '52fe44bfc3a36847f80a7cd1', 'de...         26   \n",
       "2       15602  [{'credit_id': '52fe466a9251416c75077a89', 'de...          7   \n",
       "3       31357  [{'credit_id': '52fe44779251416c91011acb', 'de...         10   \n",
       "4       11862  [{'credit_id': '52fe44959251416c75039ed7', 'de...         12   \n",
       "...       ...                                                ...        ...   \n",
       "45471  439050  [{'credit_id': '5894a97d925141426c00818c', 'de...          3   \n",
       "45472  111109  [{'credit_id': '52fe4af1c3a36847f81e9b15', 'de...         11   \n",
       "45473   67758  [{'credit_id': '52fe4776c3a368484e0c8387', 'de...         15   \n",
       "45474  227506  [{'credit_id': '533bccebc3a36844cf0011a7', 'de...          5   \n",
       "45475  461257  [{'credit_id': '593e676c92514105b702e68e', 'de...          0   \n",
       "\n",
       "                  actor  crew_size          director  \n",
       "0             Tom Hanks        106     John Lasseter  \n",
       "1        Robin Williams         16      Joe Johnston  \n",
       "2        Walter Matthau          4     Howard Deutch  \n",
       "3       Whitney Houston         10   Forest Whitaker  \n",
       "4          Steve Martin          7     Charles Shyer  \n",
       "...                 ...        ...               ...  \n",
       "45471      Leila Hatami          9  Hamid Nematollah  \n",
       "45472      Angel Aquino          6          Lav Diaz  \n",
       "45473     Erika Eleniak          5    Mark L. Lester  \n",
       "45474  Iwan Mosschuchin          2  Yakov Protazanov  \n",
       "45475               NaN          1     Daisy Asquith  \n",
       "\n",
       "[45432 rows x 6 columns]"
      ]
     },
     "execution_count": 21,
     "metadata": {},
     "output_type": "execute_result"
    }
   ],
   "source": [
    "castingdf"
   ]
  },
  {
   "cell_type": "markdown",
   "metadata": {},
   "source": [
    "### *Merging casting and movies data set*"
   ]
  },
  {
   "cell_type": "code",
   "execution_count": 22,
   "metadata": {},
   "outputs": [
    {
     "data": {
      "text/plain": [
       "Index(['adult', 'belongs_to_collection', 'budget', 'genres', 'homepage', 'id',\n",
       "       'imdb_id', 'original_language', 'original_title', 'overview',\n",
       "       'popularity', 'poster_path', 'production_companies',\n",
       "       'production_countries', 'release_date', 'revenue', 'runtime',\n",
       "       'spoken_languages', 'status', 'tagline', 'title', 'video',\n",
       "       'vote_average', 'vote_count'],\n",
       "      dtype='object')"
      ]
     },
     "execution_count": 22,
     "metadata": {},
     "output_type": "execute_result"
    }
   ],
   "source": [
    "moviedf.columns"
   ]
  },
  {
   "cell_type": "code",
   "execution_count": 23,
   "metadata": {},
   "outputs": [],
   "source": [
    "col_name=\"id\"\n",
    "first_col = moviedf.pop(col_name)\n",
    "moviedf.insert(0, col_name, first_col)"
   ]
  },
  {
   "cell_type": "code",
   "execution_count": 24,
   "metadata": {
    "scrolled": true
   },
   "outputs": [],
   "source": [
    "#keeping only the relevant columns\n",
    "\n",
    "columns = list(moviedf.columns)\n",
    "maincolum = ['genres', 'id','budget','title','overview', 'revenue', 'release_date', 'runtime', 'adult', 'original_language','production_companies','vote_average','vote_count','production_countries','belongs_to_collection','homepage']\n",
    "\n",
    "list1= []\n",
    "for i in columns:\n",
    "    if i not in maincolum:\n",
    "        list1.append(i)\n",
    "moviesdf = moviedf.drop(list1, axis=1)"
   ]
  },
  {
   "cell_type": "code",
   "execution_count": 25,
   "metadata": {},
   "outputs": [
    {
     "data": {
      "text/plain": [
       "id                           0\n",
       "adult                        0\n",
       "belongs_to_collection    40972\n",
       "budget                       0\n",
       "genres                       0\n",
       "homepage                 37684\n",
       "original_language           11\n",
       "overview                   954\n",
       "production_companies         3\n",
       "production_countries         3\n",
       "release_date                87\n",
       "revenue                      6\n",
       "runtime                    263\n",
       "title                        6\n",
       "vote_average                 6\n",
       "vote_count                   6\n",
       "dtype: int64"
      ]
     },
     "execution_count": 25,
     "metadata": {},
     "output_type": "execute_result"
    }
   ],
   "source": [
    "moviesdf.isna().sum()"
   ]
  },
  {
   "cell_type": "markdown",
   "metadata": {},
   "source": [
    "### *Dropping all the null values from moviesdf to get clean version of the data*"
   ]
  },
  {
   "cell_type": "code",
   "execution_count": 26,
   "metadata": {},
   "outputs": [],
   "source": [
    "#dropping NaN values\n",
    "moviesdf.isna().sum()\n",
    "cleandf = moviesdf.dropna(subset=['genres', 'id','budget','title','overview', 'revenue', 'release_date', 'runtime', 'adult', 'original_language','production_companies','vote_average','vote_count','production_countries'])"
   ]
  },
  {
   "cell_type": "code",
   "execution_count": 27,
   "metadata": {},
   "outputs": [
    {
     "data": {
      "text/plain": [
       "id                           0\n",
       "adult                        0\n",
       "belongs_to_collection    39996\n",
       "budget                       0\n",
       "genres                       0\n",
       "homepage                 36676\n",
       "original_language            0\n",
       "overview                     0\n",
       "production_companies         0\n",
       "production_countries         0\n",
       "release_date                 0\n",
       "revenue                      0\n",
       "runtime                      0\n",
       "title                        0\n",
       "vote_average                 0\n",
       "vote_count                   0\n",
       "dtype: int64"
      ]
     },
     "execution_count": 27,
     "metadata": {},
     "output_type": "execute_result"
    }
   ],
   "source": [
    "cleandf.isna().sum()"
   ]
  },
  {
   "cell_type": "code",
   "execution_count": 28,
   "metadata": {},
   "outputs": [
    {
     "data": {
      "text/plain": [
       "44425"
      ]
     },
     "execution_count": 28,
     "metadata": {},
     "output_type": "execute_result"
    }
   ],
   "source": [
    "cleandf.shape[0]"
   ]
  },
  {
   "cell_type": "code",
   "execution_count": 29,
   "metadata": {
    "scrolled": true
   },
   "outputs": [
    {
     "name": "stderr",
     "output_type": "stream",
     "text": [
      "<ipython-input-29-364ac506764b>:2: SettingWithCopyWarning: \n",
      "A value is trying to be set on a copy of a slice from a DataFrame.\n",
      "Try using .loc[row_indexer,col_indexer] = value instead\n",
      "\n",
      "See the caveats in the documentation: https://pandas.pydata.org/pandas-docs/stable/user_guide/indexing.html#returning-a-view-versus-a-copy\n",
      "  cleandf['id'] = cleandf.id.astype('int64')\n"
     ]
    }
   ],
   "source": [
    "#converting ID into int\n",
    "cleandf['id'] = cleandf.id.astype('int64')"
   ]
  },
  {
   "cell_type": "markdown",
   "metadata": {},
   "source": [
    "### *Creating workding1df by merging Cleandf and casting df with reference to id*"
   ]
  },
  {
   "cell_type": "code",
   "execution_count": 30,
   "metadata": {},
   "outputs": [],
   "source": [
    "workingdf = pd.merge(cleandf, castingdf, on='id')"
   ]
  },
  {
   "cell_type": "code",
   "execution_count": 31,
   "metadata": {
    "scrolled": true
   },
   "outputs": [
    {
     "data": {
      "text/plain": [
       "(44424, 21)"
      ]
     },
     "execution_count": 31,
     "metadata": {},
     "output_type": "execute_result"
    }
   ],
   "source": [
    "working1df = workingdf.dropna(subset=['genres', 'id','budget','title','overview', 'revenue', 'release_date', 'runtime', 'adult', 'original_language','production_companies','vote_average','vote_count','production_countries'])\n",
    "working1df.shape"
   ]
  },
  {
   "cell_type": "markdown",
   "metadata": {},
   "source": [
    "# Working on links data set"
   ]
  },
  {
   "cell_type": "markdown",
   "metadata": {},
   "source": [
    "### *Dropping Na values*"
   ]
  },
  {
   "cell_type": "code",
   "execution_count": 32,
   "metadata": {},
   "outputs": [],
   "source": [
    "#cleaning links dataset\n",
    "cleanlinksdf = linksdf.dropna()"
   ]
  },
  {
   "cell_type": "markdown",
   "metadata": {},
   "source": [
    "### *Renaming column name TMDB id as ID in order to merge it with working1df*"
   ]
  },
  {
   "cell_type": "code",
   "execution_count": 33,
   "metadata": {},
   "outputs": [
    {
     "name": "stderr",
     "output_type": "stream",
     "text": [
      "C:\\Users\\admin\\anaconda3\\lib\\site-packages\\pandas\\core\\frame.py:4125: SettingWithCopyWarning: \n",
      "A value is trying to be set on a copy of a slice from a DataFrame\n",
      "\n",
      "See the caveats in the documentation: https://pandas.pydata.org/pandas-docs/stable/user_guide/indexing.html#returning-a-view-versus-a-copy\n",
      "  return super().rename(\n"
     ]
    }
   ],
   "source": [
    "#renaming TMDB id as ID to make it consistent with links dataset\n",
    "cleanlinksdf.rename(columns = {'tmdbId':'id' }, inplace = True)\n"
   ]
  },
  {
   "cell_type": "code",
   "execution_count": 34,
   "metadata": {
    "scrolled": false
   },
   "outputs": [
    {
     "name": "stderr",
     "output_type": "stream",
     "text": [
      "C:\\Users\\admin\\anaconda3\\lib\\site-packages\\pandas\\core\\generic.py:5303: SettingWithCopyWarning: \n",
      "A value is trying to be set on a copy of a slice from a DataFrame.\n",
      "Try using .loc[row_indexer,col_indexer] = value instead\n",
      "\n",
      "See the caveats in the documentation: https://pandas.pydata.org/pandas-docs/stable/user_guide/indexing.html#returning-a-view-versus-a-copy\n",
      "  self[name] = value\n"
     ]
    }
   ],
   "source": [
    "#converting the id into int\n",
    "cleanlinksdf.id = cleanlinksdf.id.astype('int64')"
   ]
  },
  {
   "cell_type": "code",
   "execution_count": 35,
   "metadata": {
    "scrolled": true
   },
   "outputs": [
    {
     "data": {
      "text/html": [
       "<div>\n",
       "<style scoped>\n",
       "    .dataframe tbody tr th:only-of-type {\n",
       "        vertical-align: middle;\n",
       "    }\n",
       "\n",
       "    .dataframe tbody tr th {\n",
       "        vertical-align: top;\n",
       "    }\n",
       "\n",
       "    .dataframe thead th {\n",
       "        text-align: right;\n",
       "    }\n",
       "</style>\n",
       "<table border=\"1\" class=\"dataframe\">\n",
       "  <thead>\n",
       "    <tr style=\"text-align: right;\">\n",
       "      <th></th>\n",
       "      <th>movieId</th>\n",
       "      <th>imdbId</th>\n",
       "      <th>id</th>\n",
       "    </tr>\n",
       "  </thead>\n",
       "  <tbody>\n",
       "    <tr>\n",
       "      <th>0</th>\n",
       "      <td>1</td>\n",
       "      <td>114709</td>\n",
       "      <td>862</td>\n",
       "    </tr>\n",
       "    <tr>\n",
       "      <th>1</th>\n",
       "      <td>2</td>\n",
       "      <td>113497</td>\n",
       "      <td>8844</td>\n",
       "    </tr>\n",
       "    <tr>\n",
       "      <th>2</th>\n",
       "      <td>3</td>\n",
       "      <td>113228</td>\n",
       "      <td>15602</td>\n",
       "    </tr>\n",
       "    <tr>\n",
       "      <th>3</th>\n",
       "      <td>4</td>\n",
       "      <td>114885</td>\n",
       "      <td>31357</td>\n",
       "    </tr>\n",
       "    <tr>\n",
       "      <th>4</th>\n",
       "      <td>5</td>\n",
       "      <td>113041</td>\n",
       "      <td>11862</td>\n",
       "    </tr>\n",
       "  </tbody>\n",
       "</table>\n",
       "</div>"
      ],
      "text/plain": [
       "   movieId  imdbId     id\n",
       "0        1  114709    862\n",
       "1        2  113497   8844\n",
       "2        3  113228  15602\n",
       "3        4  114885  31357\n",
       "4        5  113041  11862"
      ]
     },
     "execution_count": 35,
     "metadata": {},
     "output_type": "execute_result"
    }
   ],
   "source": [
    "cleanlinksdf.head()"
   ]
  },
  {
   "cell_type": "code",
   "execution_count": 36,
   "metadata": {},
   "outputs": [],
   "source": [
    "col_name=\"id\"\n",
    "first_col = cleanlinksdf.pop(col_name)\n",
    "cleanlinksdf.insert(0, col_name, first_col)"
   ]
  },
  {
   "cell_type": "code",
   "execution_count": 37,
   "metadata": {},
   "outputs": [
    {
     "data": {
      "text/html": [
       "<div>\n",
       "<style scoped>\n",
       "    .dataframe tbody tr th:only-of-type {\n",
       "        vertical-align: middle;\n",
       "    }\n",
       "\n",
       "    .dataframe tbody tr th {\n",
       "        vertical-align: top;\n",
       "    }\n",
       "\n",
       "    .dataframe thead th {\n",
       "        text-align: right;\n",
       "    }\n",
       "</style>\n",
       "<table border=\"1\" class=\"dataframe\">\n",
       "  <thead>\n",
       "    <tr style=\"text-align: right;\">\n",
       "      <th></th>\n",
       "      <th>id</th>\n",
       "      <th>movieId</th>\n",
       "      <th>imdbId</th>\n",
       "    </tr>\n",
       "  </thead>\n",
       "  <tbody>\n",
       "    <tr>\n",
       "      <th>0</th>\n",
       "      <td>862</td>\n",
       "      <td>1</td>\n",
       "      <td>114709</td>\n",
       "    </tr>\n",
       "    <tr>\n",
       "      <th>1</th>\n",
       "      <td>8844</td>\n",
       "      <td>2</td>\n",
       "      <td>113497</td>\n",
       "    </tr>\n",
       "    <tr>\n",
       "      <th>2</th>\n",
       "      <td>15602</td>\n",
       "      <td>3</td>\n",
       "      <td>113228</td>\n",
       "    </tr>\n",
       "    <tr>\n",
       "      <th>3</th>\n",
       "      <td>31357</td>\n",
       "      <td>4</td>\n",
       "      <td>114885</td>\n",
       "    </tr>\n",
       "    <tr>\n",
       "      <th>4</th>\n",
       "      <td>11862</td>\n",
       "      <td>5</td>\n",
       "      <td>113041</td>\n",
       "    </tr>\n",
       "  </tbody>\n",
       "</table>\n",
       "</div>"
      ],
      "text/plain": [
       "      id  movieId  imdbId\n",
       "0    862        1  114709\n",
       "1   8844        2  113497\n",
       "2  15602        3  113228\n",
       "3  31357        4  114885\n",
       "4  11862        5  113041"
      ]
     },
     "execution_count": 37,
     "metadata": {},
     "output_type": "execute_result"
    }
   ],
   "source": [
    "cleanlinksdf.head()"
   ]
  },
  {
   "cell_type": "code",
   "execution_count": 38,
   "metadata": {},
   "outputs": [],
   "source": [
    "#merging two datasets on id\n",
    "tempdf = pd.merge(working1df,cleanlinksdf,on='id')"
   ]
  },
  {
   "cell_type": "code",
   "execution_count": 39,
   "metadata": {},
   "outputs": [],
   "source": [
    "#dropping ImbdbID column\n",
    "temp1df = tempdf.drop(['imdbId'], axis=1)"
   ]
  },
  {
   "cell_type": "markdown",
   "metadata": {},
   "source": [
    "### *We next filter the data so that only our target genre labels are included and we assign each text to just one of the genre labels. It's possible that one text could be labelled with two of these labels (eg. Science Fiction and Fantasy) but we will just assign one of those here*"
   ]
  },
  {
   "cell_type": "code",
   "execution_count": 40,
   "metadata": {},
   "outputs": [
    {
     "data": {
      "text/plain": [
       "(39376, 22)"
      ]
     },
     "execution_count": 40,
     "metadata": {},
     "output_type": "execute_result"
    }
   ],
   "source": [
    "target_genres = [\"Animation\",\n",
    "                 'Adventure',\n",
    "                 'Romance',\n",
    "                 'Comedy',\n",
    "                 'Drama',\n",
    "                'Horror', 'Science Fiction', 'Fantasy', 'Crime', 'Action', 'Mystery', 'Family', 'Music', 'Western', 'War', 'Thriller']\n",
    "\n",
    "# create a Series of empty strings the same length as the list of movies\n",
    "genre = pd.Series(np.repeat(\"\", temp1df.shape[0]))\n",
    "# look for each target genre and set the corresponding entries in the genre series to the genre label\n",
    "for g in target_genres:\n",
    "    genre[temp1df['genres'].str.contains(g)] = g\n",
    "\n",
    "# add this to the movie dataframe and then select only those rows that have a genre label\n",
    "\n",
    "temp1df['genres'] = genre\n",
    "genre_movies = temp1df[genre!='']\n",
    "\n",
    "genre_movies.shape"
   ]
  },
  {
   "cell_type": "code",
   "execution_count": 41,
   "metadata": {},
   "outputs": [
    {
     "name": "stderr",
     "output_type": "stream",
     "text": [
      "C:\\Users\\admin\\anaconda3\\lib\\site-packages\\pandas\\core\\generic.py:5303: SettingWithCopyWarning: \n",
      "A value is trying to be set on a copy of a slice from a DataFrame.\n",
      "Try using .loc[row_indexer,col_indexer] = value instead\n",
      "\n",
      "See the caveats in the documentation: https://pandas.pydata.org/pandas-docs/stable/user_guide/indexing.html#returning-a-view-versus-a-copy\n",
      "  self[name] = value\n",
      "<ipython-input-41-cacc4cb4ec51>:4: SettingWithCopyWarning: \n",
      "A value is trying to be set on a copy of a slice from a DataFrame.\n",
      "Try using .loc[row_indexer,col_indexer] = value instead\n",
      "\n",
      "See the caveats in the documentation: https://pandas.pydata.org/pandas-docs/stable/user_guide/indexing.html#returning-a-view-versus-a-copy\n",
      "  genre_movies['profit'] = genre_movies.revenue - genre_movies.budget\n"
     ]
    }
   ],
   "source": [
    "#converting budget into float and getting a profit column\n",
    "\n",
    "genre_movies.budget = genre_movies.budget.astype('float64')\n",
    "genre_movies['profit'] = genre_movies.revenue - genre_movies.budget"
   ]
  },
  {
   "cell_type": "markdown",
   "metadata": {},
   "source": [
    "### *Obtaining Fulldf by merging movies and rating*"
   ]
  },
  {
   "cell_type": "code",
   "execution_count": 42,
   "metadata": {},
   "outputs": [],
   "source": [
    "#moving movieID column to the first column\n",
    "col_name=\"movieId\"\n",
    "first_col = genre_movies.pop(col_name)\n",
    "genre_movies.insert(0, col_name, first_col)"
   ]
  },
  {
   "cell_type": "code",
   "execution_count": 43,
   "metadata": {},
   "outputs": [],
   "source": [
    "#moving movieID column to the first column in our ratings dataset\n",
    "col_name1=\"movieId\"\n",
    "first_col1 = ratingsdf.pop(col_name)\n",
    "ratingsdf.insert(0, col_name1, first_col1)"
   ]
  },
  {
   "cell_type": "code",
   "execution_count": 44,
   "metadata": {
    "scrolled": true
   },
   "outputs": [
    {
     "data": {
      "text/html": [
       "<div>\n",
       "<style scoped>\n",
       "    .dataframe tbody tr th:only-of-type {\n",
       "        vertical-align: middle;\n",
       "    }\n",
       "\n",
       "    .dataframe tbody tr th {\n",
       "        vertical-align: top;\n",
       "    }\n",
       "\n",
       "    .dataframe thead th {\n",
       "        text-align: right;\n",
       "    }\n",
       "</style>\n",
       "<table border=\"1\" class=\"dataframe\">\n",
       "  <thead>\n",
       "    <tr style=\"text-align: right;\">\n",
       "      <th></th>\n",
       "      <th>movieId</th>\n",
       "      <th>userId</th>\n",
       "      <th>rating</th>\n",
       "      <th>timestamp</th>\n",
       "    </tr>\n",
       "  </thead>\n",
       "  <tbody>\n",
       "    <tr>\n",
       "      <th>0</th>\n",
       "      <td>110</td>\n",
       "      <td>1</td>\n",
       "      <td>1.0</td>\n",
       "      <td>1425941529</td>\n",
       "    </tr>\n",
       "    <tr>\n",
       "      <th>1</th>\n",
       "      <td>147</td>\n",
       "      <td>1</td>\n",
       "      <td>4.5</td>\n",
       "      <td>1425942435</td>\n",
       "    </tr>\n",
       "    <tr>\n",
       "      <th>2</th>\n",
       "      <td>858</td>\n",
       "      <td>1</td>\n",
       "      <td>5.0</td>\n",
       "      <td>1425941523</td>\n",
       "    </tr>\n",
       "    <tr>\n",
       "      <th>3</th>\n",
       "      <td>1221</td>\n",
       "      <td>1</td>\n",
       "      <td>5.0</td>\n",
       "      <td>1425941546</td>\n",
       "    </tr>\n",
       "    <tr>\n",
       "      <th>4</th>\n",
       "      <td>1246</td>\n",
       "      <td>1</td>\n",
       "      <td>5.0</td>\n",
       "      <td>1425941556</td>\n",
       "    </tr>\n",
       "  </tbody>\n",
       "</table>\n",
       "</div>"
      ],
      "text/plain": [
       "   movieId  userId  rating   timestamp\n",
       "0      110       1     1.0  1425941529\n",
       "1      147       1     4.5  1425942435\n",
       "2      858       1     5.0  1425941523\n",
       "3     1221       1     5.0  1425941546\n",
       "4     1246       1     5.0  1425941556"
      ]
     },
     "execution_count": 44,
     "metadata": {},
     "output_type": "execute_result"
    }
   ],
   "source": [
    "ratingsdf.head()"
   ]
  },
  {
   "cell_type": "code",
   "execution_count": 45,
   "metadata": {},
   "outputs": [],
   "source": [
    "#complete dataframe\n",
    "fulldf = pd.merge(ratingsdf,genre_movies,on='movieId')\n"
   ]
  },
  {
   "cell_type": "markdown",
   "metadata": {},
   "source": [
    "### *Obtaining finaldf by dropping timestamp*"
   ]
  },
  {
   "cell_type": "code",
   "execution_count": 46,
   "metadata": {},
   "outputs": [
    {
     "name": "stdout",
     "output_type": "stream",
     "text": [
      "Shape of final dataset 25765731\n"
     ]
    }
   ],
   "source": [
    "#final dataset after dropping unwanted columns\n",
    "finaldf = fulldf.drop(['timestamp'], axis=1)\n",
    "print('Shape of final dataset', finaldf.shape[0])"
   ]
  },
  {
   "cell_type": "markdown",
   "metadata": {},
   "source": [
    "### *Dropping rows with no profit values*"
   ]
  },
  {
   "cell_type": "code",
   "execution_count": 47,
   "metadata": {},
   "outputs": [],
   "source": [
    "index1 = finaldf[finaldf.profit == 0.0 ].index"
   ]
  },
  {
   "cell_type": "code",
   "execution_count": 48,
   "metadata": {},
   "outputs": [],
   "source": [
    "final1df = finaldf.drop(index1, axis=0)"
   ]
  },
  {
   "cell_type": "code",
   "execution_count": 49,
   "metadata": {},
   "outputs": [
    {
     "data": {
      "text/plain": [
       "22986508"
      ]
     },
     "execution_count": 49,
     "metadata": {},
     "output_type": "execute_result"
    }
   ],
   "source": [
    "final1df.shape[0]"
   ]
  },
  {
   "cell_type": "code",
   "execution_count": 50,
   "metadata": {},
   "outputs": [],
   "source": [
    "listMovie = list(final1df.movieId) "
   ]
  },
  {
   "cell_type": "markdown",
   "metadata": {},
   "source": [
    "### *Evaluating average ratings for a particular movie*"
   ]
  },
  {
   "cell_type": "code",
   "execution_count": 51,
   "metadata": {},
   "outputs": [],
   "source": [
    "listAverage = [] \n",
    "for i in set(listMovie):\n",
    "    listAverage.append(int(round(final1df[final1df.movieId == i].rating.mean(),1)))\n",
    "    "
   ]
  },
  {
   "cell_type": "code",
   "execution_count": 52,
   "metadata": {},
   "outputs": [
    {
     "data": {
      "text/plain": [
       "(22986508, 25)"
      ]
     },
     "execution_count": 52,
     "metadata": {},
     "output_type": "execute_result"
    }
   ],
   "source": [
    "final1df.shape"
   ]
  },
  {
   "cell_type": "code",
   "execution_count": 53,
   "metadata": {},
   "outputs": [],
   "source": [
    "final1df['actor'] = final1df['actor'].astype(str)"
   ]
  },
  {
   "cell_type": "code",
   "execution_count": 54,
   "metadata": {},
   "outputs": [],
   "source": [
    "final1df['director'] = final1df['director'].astype(str)"
   ]
  },
  {
   "cell_type": "code",
   "execution_count": 55,
   "metadata": {},
   "outputs": [
    {
     "data": {
      "text/plain": [
       "movieId                    int64\n",
       "userId                     int64\n",
       "rating                   float64\n",
       "id                         int64\n",
       "adult                     object\n",
       "belongs_to_collection     object\n",
       "budget                   float64\n",
       "genres                    object\n",
       "homepage                  object\n",
       "original_language         object\n",
       "overview                  object\n",
       "production_companies      object\n",
       "production_countries      object\n",
       "release_date              object\n",
       "revenue                  float64\n",
       "runtime                  float64\n",
       "title                     object\n",
       "vote_average             float64\n",
       "vote_count               float64\n",
       "crew                      object\n",
       "cast_size                  int64\n",
       "actor                     object\n",
       "crew_size                  int64\n",
       "director                  object\n",
       "profit                   float64\n",
       "dtype: object"
      ]
     },
     "execution_count": 55,
     "metadata": {},
     "output_type": "execute_result"
    }
   ],
   "source": [
    "final1df.dtypes"
   ]
  },
  {
   "cell_type": "code",
   "execution_count": 56,
   "metadata": {},
   "outputs": [],
   "source": [
    "final2df = final1df.drop_duplicates(subset=['movieId'])"
   ]
  },
  {
   "cell_type": "code",
   "execution_count": 57,
   "metadata": {},
   "outputs": [
    {
     "data": {
      "text/plain": [
       "(10478, 25)"
      ]
     },
     "execution_count": 57,
     "metadata": {},
     "output_type": "execute_result"
    }
   ],
   "source": [
    "final2df.shape"
   ]
  },
  {
   "cell_type": "code",
   "execution_count": 58,
   "metadata": {},
   "outputs": [],
   "source": [
    "\n",
    "x = pd.DataFrame(columns= ['movieId'],data= list(set(listMovie)))\n",
    "y = pd.DataFrame(columns=['average_ratings'], data=listAverage)\n",
    "\n"
   ]
  },
  {
   "cell_type": "code",
   "execution_count": 59,
   "metadata": {},
   "outputs": [
    {
     "data": {
      "text/plain": [
       "pandas.core.frame.DataFrame"
      ]
     },
     "execution_count": 59,
     "metadata": {},
     "output_type": "execute_result"
    }
   ],
   "source": [
    "type(x)"
   ]
  },
  {
   "cell_type": "code",
   "execution_count": 60,
   "metadata": {},
   "outputs": [],
   "source": [
    "ratingaverage =[x,y]"
   ]
  },
  {
   "cell_type": "code",
   "execution_count": 61,
   "metadata": {},
   "outputs": [
    {
     "data": {
      "text/html": [
       "<div>\n",
       "<style scoped>\n",
       "    .dataframe tbody tr th:only-of-type {\n",
       "        vertical-align: middle;\n",
       "    }\n",
       "\n",
       "    .dataframe tbody tr th {\n",
       "        vertical-align: top;\n",
       "    }\n",
       "\n",
       "    .dataframe thead th {\n",
       "        text-align: right;\n",
       "    }\n",
       "</style>\n",
       "<table border=\"1\" class=\"dataframe\">\n",
       "  <thead>\n",
       "    <tr style=\"text-align: right;\">\n",
       "      <th></th>\n",
       "      <th>average_ratings</th>\n",
       "    </tr>\n",
       "  </thead>\n",
       "  <tbody>\n",
       "    <tr>\n",
       "      <th>0</th>\n",
       "      <td>3</td>\n",
       "    </tr>\n",
       "    <tr>\n",
       "      <th>1</th>\n",
       "      <td>3</td>\n",
       "    </tr>\n",
       "    <tr>\n",
       "      <th>2</th>\n",
       "      <td>2</td>\n",
       "    </tr>\n",
       "    <tr>\n",
       "      <th>3</th>\n",
       "      <td>3</td>\n",
       "    </tr>\n",
       "    <tr>\n",
       "      <th>4</th>\n",
       "      <td>3</td>\n",
       "    </tr>\n",
       "    <tr>\n",
       "      <th>...</th>\n",
       "      <td>...</td>\n",
       "    </tr>\n",
       "    <tr>\n",
       "      <th>10473</th>\n",
       "      <td>3</td>\n",
       "    </tr>\n",
       "    <tr>\n",
       "      <th>10474</th>\n",
       "      <td>3</td>\n",
       "    </tr>\n",
       "    <tr>\n",
       "      <th>10475</th>\n",
       "      <td>4</td>\n",
       "    </tr>\n",
       "    <tr>\n",
       "      <th>10476</th>\n",
       "      <td>0</td>\n",
       "    </tr>\n",
       "    <tr>\n",
       "      <th>10477</th>\n",
       "      <td>3</td>\n",
       "    </tr>\n",
       "  </tbody>\n",
       "</table>\n",
       "<p>10478 rows × 1 columns</p>\n",
       "</div>"
      ],
      "text/plain": [
       "       average_ratings\n",
       "0                    3\n",
       "1                    3\n",
       "2                    2\n",
       "3                    3\n",
       "4                    3\n",
       "...                ...\n",
       "10473                3\n",
       "10474                3\n",
       "10475                4\n",
       "10476                0\n",
       "10477                3\n",
       "\n",
       "[10478 rows x 1 columns]"
      ]
     },
     "execution_count": 61,
     "metadata": {},
     "output_type": "execute_result"
    }
   ],
   "source": [
    "ratingaverage[1]"
   ]
  },
  {
   "cell_type": "code",
   "execution_count": 62,
   "metadata": {},
   "outputs": [
    {
     "data": {
      "text/html": [
       "<div>\n",
       "<style scoped>\n",
       "    .dataframe tbody tr th:only-of-type {\n",
       "        vertical-align: middle;\n",
       "    }\n",
       "\n",
       "    .dataframe tbody tr th {\n",
       "        vertical-align: top;\n",
       "    }\n",
       "\n",
       "    .dataframe thead th {\n",
       "        text-align: right;\n",
       "    }\n",
       "</style>\n",
       "<table border=\"1\" class=\"dataframe\">\n",
       "  <thead>\n",
       "    <tr style=\"text-align: right;\">\n",
       "      <th></th>\n",
       "      <th>movieId</th>\n",
       "    </tr>\n",
       "  </thead>\n",
       "  <tbody>\n",
       "    <tr>\n",
       "      <th>0</th>\n",
       "      <td>1</td>\n",
       "    </tr>\n",
       "    <tr>\n",
       "      <th>1</th>\n",
       "      <td>2</td>\n",
       "    </tr>\n",
       "    <tr>\n",
       "      <th>2</th>\n",
       "      <td>4</td>\n",
       "    </tr>\n",
       "    <tr>\n",
       "      <th>3</th>\n",
       "      <td>5</td>\n",
       "    </tr>\n",
       "    <tr>\n",
       "      <th>4</th>\n",
       "      <td>6</td>\n",
       "    </tr>\n",
       "    <tr>\n",
       "      <th>...</th>\n",
       "      <td>...</td>\n",
       "    </tr>\n",
       "    <tr>\n",
       "      <th>10473</th>\n",
       "      <td>98273</td>\n",
       "    </tr>\n",
       "    <tr>\n",
       "      <th>10474</th>\n",
       "      <td>32743</td>\n",
       "    </tr>\n",
       "    <tr>\n",
       "      <th>10475</th>\n",
       "      <td>65514</td>\n",
       "    </tr>\n",
       "    <tr>\n",
       "      <th>10476</th>\n",
       "      <td>131062</td>\n",
       "    </tr>\n",
       "    <tr>\n",
       "      <th>10477</th>\n",
       "      <td>98296</td>\n",
       "    </tr>\n",
       "  </tbody>\n",
       "</table>\n",
       "<p>10478 rows × 1 columns</p>\n",
       "</div>"
      ],
      "text/plain": [
       "       movieId\n",
       "0            1\n",
       "1            2\n",
       "2            4\n",
       "3            5\n",
       "4            6\n",
       "...        ...\n",
       "10473    98273\n",
       "10474    32743\n",
       "10475    65514\n",
       "10476   131062\n",
       "10477    98296\n",
       "\n",
       "[10478 rows x 1 columns]"
      ]
     },
     "execution_count": 62,
     "metadata": {},
     "output_type": "execute_result"
    }
   ],
   "source": [
    "ratingaverage[0]"
   ]
  },
  {
   "cell_type": "markdown",
   "metadata": {},
   "source": [
    "### *Mapping average rating with movieId*"
   ]
  },
  {
   "cell_type": "code",
   "execution_count": 63,
   "metadata": {},
   "outputs": [],
   "source": [
    "ratingAverageDF = x.join(y,how = 'inner' )\n"
   ]
  },
  {
   "cell_type": "code",
   "execution_count": 64,
   "metadata": {},
   "outputs": [
    {
     "data": {
      "text/html": [
       "<div>\n",
       "<style scoped>\n",
       "    .dataframe tbody tr th:only-of-type {\n",
       "        vertical-align: middle;\n",
       "    }\n",
       "\n",
       "    .dataframe tbody tr th {\n",
       "        vertical-align: top;\n",
       "    }\n",
       "\n",
       "    .dataframe thead th {\n",
       "        text-align: right;\n",
       "    }\n",
       "</style>\n",
       "<table border=\"1\" class=\"dataframe\">\n",
       "  <thead>\n",
       "    <tr style=\"text-align: right;\">\n",
       "      <th></th>\n",
       "      <th>movieId</th>\n",
       "      <th>average_ratings</th>\n",
       "    </tr>\n",
       "  </thead>\n",
       "  <tbody>\n",
       "    <tr>\n",
       "      <th>0</th>\n",
       "      <td>1</td>\n",
       "      <td>3</td>\n",
       "    </tr>\n",
       "    <tr>\n",
       "      <th>1</th>\n",
       "      <td>2</td>\n",
       "      <td>3</td>\n",
       "    </tr>\n",
       "    <tr>\n",
       "      <th>2</th>\n",
       "      <td>4</td>\n",
       "      <td>2</td>\n",
       "    </tr>\n",
       "    <tr>\n",
       "      <th>3</th>\n",
       "      <td>5</td>\n",
       "      <td>3</td>\n",
       "    </tr>\n",
       "    <tr>\n",
       "      <th>4</th>\n",
       "      <td>6</td>\n",
       "      <td>3</td>\n",
       "    </tr>\n",
       "    <tr>\n",
       "      <th>...</th>\n",
       "      <td>...</td>\n",
       "      <td>...</td>\n",
       "    </tr>\n",
       "    <tr>\n",
       "      <th>10473</th>\n",
       "      <td>98273</td>\n",
       "      <td>3</td>\n",
       "    </tr>\n",
       "    <tr>\n",
       "      <th>10474</th>\n",
       "      <td>32743</td>\n",
       "      <td>3</td>\n",
       "    </tr>\n",
       "    <tr>\n",
       "      <th>10475</th>\n",
       "      <td>65514</td>\n",
       "      <td>4</td>\n",
       "    </tr>\n",
       "    <tr>\n",
       "      <th>10476</th>\n",
       "      <td>131062</td>\n",
       "      <td>0</td>\n",
       "    </tr>\n",
       "    <tr>\n",
       "      <th>10477</th>\n",
       "      <td>98296</td>\n",
       "      <td>3</td>\n",
       "    </tr>\n",
       "  </tbody>\n",
       "</table>\n",
       "<p>10478 rows × 2 columns</p>\n",
       "</div>"
      ],
      "text/plain": [
       "       movieId  average_ratings\n",
       "0            1                3\n",
       "1            2                3\n",
       "2            4                2\n",
       "3            5                3\n",
       "4            6                3\n",
       "...        ...              ...\n",
       "10473    98273                3\n",
       "10474    32743                3\n",
       "10475    65514                4\n",
       "10476   131062                0\n",
       "10477    98296                3\n",
       "\n",
       "[10478 rows x 2 columns]"
      ]
     },
     "execution_count": 64,
     "metadata": {},
     "output_type": "execute_result"
    }
   ],
   "source": [
    "ratingAverageDF"
   ]
  },
  {
   "cell_type": "code",
   "execution_count": 65,
   "metadata": {},
   "outputs": [
    {
     "data": {
      "text/html": [
       "<div>\n",
       "<style scoped>\n",
       "    .dataframe tbody tr th:only-of-type {\n",
       "        vertical-align: middle;\n",
       "    }\n",
       "\n",
       "    .dataframe tbody tr th {\n",
       "        vertical-align: top;\n",
       "    }\n",
       "\n",
       "    .dataframe thead th {\n",
       "        text-align: right;\n",
       "    }\n",
       "</style>\n",
       "<table border=\"1\" class=\"dataframe\">\n",
       "  <thead>\n",
       "    <tr style=\"text-align: right;\">\n",
       "      <th></th>\n",
       "      <th>movieId</th>\n",
       "      <th>average_ratings</th>\n",
       "    </tr>\n",
       "  </thead>\n",
       "  <tbody>\n",
       "    <tr>\n",
       "      <th>0</th>\n",
       "      <td>1</td>\n",
       "      <td>3</td>\n",
       "    </tr>\n",
       "    <tr>\n",
       "      <th>1</th>\n",
       "      <td>2</td>\n",
       "      <td>3</td>\n",
       "    </tr>\n",
       "    <tr>\n",
       "      <th>2</th>\n",
       "      <td>4</td>\n",
       "      <td>2</td>\n",
       "    </tr>\n",
       "    <tr>\n",
       "      <th>3</th>\n",
       "      <td>5</td>\n",
       "      <td>3</td>\n",
       "    </tr>\n",
       "    <tr>\n",
       "      <th>4</th>\n",
       "      <td>6</td>\n",
       "      <td>3</td>\n",
       "    </tr>\n",
       "    <tr>\n",
       "      <th>...</th>\n",
       "      <td>...</td>\n",
       "      <td>...</td>\n",
       "    </tr>\n",
       "    <tr>\n",
       "      <th>10473</th>\n",
       "      <td>98273</td>\n",
       "      <td>3</td>\n",
       "    </tr>\n",
       "    <tr>\n",
       "      <th>10474</th>\n",
       "      <td>32743</td>\n",
       "      <td>3</td>\n",
       "    </tr>\n",
       "    <tr>\n",
       "      <th>10475</th>\n",
       "      <td>65514</td>\n",
       "      <td>4</td>\n",
       "    </tr>\n",
       "    <tr>\n",
       "      <th>10476</th>\n",
       "      <td>131062</td>\n",
       "      <td>0</td>\n",
       "    </tr>\n",
       "    <tr>\n",
       "      <th>10477</th>\n",
       "      <td>98296</td>\n",
       "      <td>3</td>\n",
       "    </tr>\n",
       "  </tbody>\n",
       "</table>\n",
       "<p>10478 rows × 2 columns</p>\n",
       "</div>"
      ],
      "text/plain": [
       "       movieId  average_ratings\n",
       "0            1                3\n",
       "1            2                3\n",
       "2            4                2\n",
       "3            5                3\n",
       "4            6                3\n",
       "...        ...              ...\n",
       "10473    98273                3\n",
       "10474    32743                3\n",
       "10475    65514                4\n",
       "10476   131062                0\n",
       "10477    98296                3\n",
       "\n",
       "[10478 rows x 2 columns]"
      ]
     },
     "execution_count": 65,
     "metadata": {},
     "output_type": "execute_result"
    }
   ],
   "source": [
    "ratingAverageDF "
   ]
  },
  {
   "cell_type": "code",
   "execution_count": 66,
   "metadata": {},
   "outputs": [
    {
     "data": {
      "text/plain": [
       "10478"
      ]
     },
     "execution_count": 66,
     "metadata": {},
     "output_type": "execute_result"
    }
   ],
   "source": [
    "final2df.shape[0]"
   ]
  },
  {
   "cell_type": "markdown",
   "metadata": {},
   "source": [
    "### *Merging ratingAverageDF with finaldf*"
   ]
  },
  {
   "cell_type": "code",
   "execution_count": 67,
   "metadata": {},
   "outputs": [],
   "source": [
    "final3df = pd.merge(final2df, ratingAverageDF, on='movieId')"
   ]
  },
  {
   "cell_type": "code",
   "execution_count": 68,
   "metadata": {
    "scrolled": true
   },
   "outputs": [
    {
     "data": {
      "text/html": [
       "<div>\n",
       "<style scoped>\n",
       "    .dataframe tbody tr th:only-of-type {\n",
       "        vertical-align: middle;\n",
       "    }\n",
       "\n",
       "    .dataframe tbody tr th {\n",
       "        vertical-align: top;\n",
       "    }\n",
       "\n",
       "    .dataframe thead th {\n",
       "        text-align: right;\n",
       "    }\n",
       "</style>\n",
       "<table border=\"1\" class=\"dataframe\">\n",
       "  <thead>\n",
       "    <tr style=\"text-align: right;\">\n",
       "      <th></th>\n",
       "      <th>movieId</th>\n",
       "      <th>userId</th>\n",
       "      <th>rating</th>\n",
       "      <th>id</th>\n",
       "      <th>adult</th>\n",
       "      <th>belongs_to_collection</th>\n",
       "      <th>budget</th>\n",
       "      <th>genres</th>\n",
       "      <th>homepage</th>\n",
       "      <th>original_language</th>\n",
       "      <th>...</th>\n",
       "      <th>title</th>\n",
       "      <th>vote_average</th>\n",
       "      <th>vote_count</th>\n",
       "      <th>crew</th>\n",
       "      <th>cast_size</th>\n",
       "      <th>actor</th>\n",
       "      <th>crew_size</th>\n",
       "      <th>director</th>\n",
       "      <th>profit</th>\n",
       "      <th>average_ratings</th>\n",
       "    </tr>\n",
       "  </thead>\n",
       "  <tbody>\n",
       "    <tr>\n",
       "      <th>176</th>\n",
       "      <td>1</td>\n",
       "      <td>8</td>\n",
       "      <td>4.0</td>\n",
       "      <td>862</td>\n",
       "      <td>False</td>\n",
       "      <td>{'id': 10194, 'name': 'Toy Story Collection', ...</td>\n",
       "      <td>30000000.0</td>\n",
       "      <td>Family</td>\n",
       "      <td>http://toystory.disney.com/toy-story</td>\n",
       "      <td>en</td>\n",
       "      <td>...</td>\n",
       "      <td>Toy Story</td>\n",
       "      <td>7.7</td>\n",
       "      <td>5415.0</td>\n",
       "      <td>[{'credit_id': '52fe4284c3a36847f8024f49', 'de...</td>\n",
       "      <td>13</td>\n",
       "      <td>Tom Hanks</td>\n",
       "      <td>106</td>\n",
       "      <td>John Lasseter</td>\n",
       "      <td>343554033.0</td>\n",
       "      <td>3</td>\n",
       "    </tr>\n",
       "  </tbody>\n",
       "</table>\n",
       "<p>1 rows × 26 columns</p>\n",
       "</div>"
      ],
      "text/plain": [
       "     movieId  userId  rating   id  adult  \\\n",
       "176        1       8     4.0  862  False   \n",
       "\n",
       "                                 belongs_to_collection      budget  genres  \\\n",
       "176  {'id': 10194, 'name': 'Toy Story Collection', ...  30000000.0  Family   \n",
       "\n",
       "                                 homepage original_language  ...      title  \\\n",
       "176  http://toystory.disney.com/toy-story                en  ...  Toy Story   \n",
       "\n",
       "    vote_average vote_count  \\\n",
       "176          7.7     5415.0   \n",
       "\n",
       "                                                  crew  cast_size      actor  \\\n",
       "176  [{'credit_id': '52fe4284c3a36847f8024f49', 'de...         13  Tom Hanks   \n",
       "\n",
       "    crew_size       director       profit average_ratings  \n",
       "176       106  John Lasseter  343554033.0               3  \n",
       "\n",
       "[1 rows x 26 columns]"
      ]
     },
     "execution_count": 68,
     "metadata": {},
     "output_type": "execute_result"
    }
   ],
   "source": [
    "final3df[final3df.movieId == 1]"
   ]
  },
  {
   "cell_type": "code",
   "execution_count": 69,
   "metadata": {},
   "outputs": [
    {
     "data": {
      "text/html": [
       "<div>\n",
       "<style scoped>\n",
       "    .dataframe tbody tr th:only-of-type {\n",
       "        vertical-align: middle;\n",
       "    }\n",
       "\n",
       "    .dataframe tbody tr th {\n",
       "        vertical-align: top;\n",
       "    }\n",
       "\n",
       "    .dataframe thead th {\n",
       "        text-align: right;\n",
       "    }\n",
       "</style>\n",
       "<table border=\"1\" class=\"dataframe\">\n",
       "  <thead>\n",
       "    <tr style=\"text-align: right;\">\n",
       "      <th></th>\n",
       "      <th>movieId</th>\n",
       "      <th>userId</th>\n",
       "      <th>rating</th>\n",
       "      <th>id</th>\n",
       "      <th>adult</th>\n",
       "      <th>belongs_to_collection</th>\n",
       "      <th>budget</th>\n",
       "      <th>genres</th>\n",
       "      <th>homepage</th>\n",
       "      <th>original_language</th>\n",
       "      <th>...</th>\n",
       "      <th>runtime</th>\n",
       "      <th>title</th>\n",
       "      <th>vote_average</th>\n",
       "      <th>vote_count</th>\n",
       "      <th>crew</th>\n",
       "      <th>cast_size</th>\n",
       "      <th>actor</th>\n",
       "      <th>crew_size</th>\n",
       "      <th>director</th>\n",
       "      <th>profit</th>\n",
       "    </tr>\n",
       "  </thead>\n",
       "  <tbody>\n",
       "    <tr>\n",
       "      <th>0</th>\n",
       "      <td>110</td>\n",
       "      <td>1</td>\n",
       "      <td>1.0</td>\n",
       "      <td>197</td>\n",
       "      <td>False</td>\n",
       "      <td>NaN</td>\n",
       "      <td>72000000.0</td>\n",
       "      <td>War</td>\n",
       "      <td>NaN</td>\n",
       "      <td>en</td>\n",
       "      <td>...</td>\n",
       "      <td>177.0</td>\n",
       "      <td>Braveheart</td>\n",
       "      <td>7.7</td>\n",
       "      <td>3404.0</td>\n",
       "      <td>[{'credit_id': '52fe4225c3a36847f80079c1', 'de...</td>\n",
       "      <td>55</td>\n",
       "      <td>Mel Gibson</td>\n",
       "      <td>67</td>\n",
       "      <td>Mel Gibson</td>\n",
       "      <td>138000000.0</td>\n",
       "    </tr>\n",
       "    <tr>\n",
       "      <th>71479</th>\n",
       "      <td>858</td>\n",
       "      <td>1</td>\n",
       "      <td>5.0</td>\n",
       "      <td>238</td>\n",
       "      <td>False</td>\n",
       "      <td>{'id': 230, 'name': 'The Godfather Collection'...</td>\n",
       "      <td>6000000.0</td>\n",
       "      <td>Crime</td>\n",
       "      <td>http://www.thegodfather.com/</td>\n",
       "      <td>en</td>\n",
       "      <td>...</td>\n",
       "      <td>175.0</td>\n",
       "      <td>The Godfather</td>\n",
       "      <td>8.5</td>\n",
       "      <td>6024.0</td>\n",
       "      <td>[{'credit_id': '52fe422bc3a36847f80093db', 'de...</td>\n",
       "      <td>58</td>\n",
       "      <td>Marlon Brando</td>\n",
       "      <td>42</td>\n",
       "      <td>Francis Ford Coppola</td>\n",
       "      <td>239066411.0</td>\n",
       "    </tr>\n",
       "    <tr>\n",
       "      <th>128549</th>\n",
       "      <td>1221</td>\n",
       "      <td>1</td>\n",
       "      <td>5.0</td>\n",
       "      <td>240</td>\n",
       "      <td>False</td>\n",
       "      <td>{'id': 230, 'name': 'The Godfather Collection'...</td>\n",
       "      <td>13000000.0</td>\n",
       "      <td>Crime</td>\n",
       "      <td>NaN</td>\n",
       "      <td>en</td>\n",
       "      <td>...</td>\n",
       "      <td>200.0</td>\n",
       "      <td>The Godfather: Part II</td>\n",
       "      <td>8.3</td>\n",
       "      <td>3418.0</td>\n",
       "      <td>[{'credit_id': '52fe422bc3a36847f80094dd', 'de...</td>\n",
       "      <td>84</td>\n",
       "      <td>Al Pacino</td>\n",
       "      <td>53</td>\n",
       "      <td>Francis Ford Coppola</td>\n",
       "      <td>34542841.0</td>\n",
       "    </tr>\n",
       "    <tr>\n",
       "      <th>165228</th>\n",
       "      <td>1246</td>\n",
       "      <td>1</td>\n",
       "      <td>5.0</td>\n",
       "      <td>207</td>\n",
       "      <td>False</td>\n",
       "      <td>NaN</td>\n",
       "      <td>16400000.0</td>\n",
       "      <td>Drama</td>\n",
       "      <td>NaN</td>\n",
       "      <td>en</td>\n",
       "      <td>...</td>\n",
       "      <td>129.0</td>\n",
       "      <td>Dead Poets Society</td>\n",
       "      <td>8.1</td>\n",
       "      <td>2786.0</td>\n",
       "      <td>[{'credit_id': '52fe4227c3a36847f8008045', 'de...</td>\n",
       "      <td>15</td>\n",
       "      <td>Robin Williams</td>\n",
       "      <td>11</td>\n",
       "      <td>Peter Weir</td>\n",
       "      <td>219460116.0</td>\n",
       "    </tr>\n",
       "    <tr>\n",
       "      <th>190980</th>\n",
       "      <td>1968</td>\n",
       "      <td>1</td>\n",
       "      <td>4.0</td>\n",
       "      <td>2108</td>\n",
       "      <td>False</td>\n",
       "      <td>NaN</td>\n",
       "      <td>1000000.0</td>\n",
       "      <td>Drama</td>\n",
       "      <td>NaN</td>\n",
       "      <td>en</td>\n",
       "      <td>...</td>\n",
       "      <td>97.0</td>\n",
       "      <td>The Breakfast Club</td>\n",
       "      <td>7.8</td>\n",
       "      <td>2189.0</td>\n",
       "      <td>[{'credit_id': '52fe4336c3a36847f8042e63', 'de...</td>\n",
       "      <td>13</td>\n",
       "      <td>Emilio Estevez</td>\n",
       "      <td>14</td>\n",
       "      <td>John Hughes</td>\n",
       "      <td>50525171.0</td>\n",
       "    </tr>\n",
       "    <tr>\n",
       "      <th>...</th>\n",
       "      <td>...</td>\n",
       "      <td>...</td>\n",
       "      <td>...</td>\n",
       "      <td>...</td>\n",
       "      <td>...</td>\n",
       "      <td>...</td>\n",
       "      <td>...</td>\n",
       "      <td>...</td>\n",
       "      <td>...</td>\n",
       "      <td>...</td>\n",
       "      <td>...</td>\n",
       "      <td>...</td>\n",
       "      <td>...</td>\n",
       "      <td>...</td>\n",
       "      <td>...</td>\n",
       "      <td>...</td>\n",
       "      <td>...</td>\n",
       "      <td>...</td>\n",
       "      <td>...</td>\n",
       "      <td>...</td>\n",
       "      <td>...</td>\n",
       "    </tr>\n",
       "    <tr>\n",
       "      <th>25765703</th>\n",
       "      <td>161030</td>\n",
       "      <td>270123</td>\n",
       "      <td>2.0</td>\n",
       "      <td>93091</td>\n",
       "      <td>False</td>\n",
       "      <td>NaN</td>\n",
       "      <td>10000000.0</td>\n",
       "      <td>Drama</td>\n",
       "      <td>NaN</td>\n",
       "      <td>en</td>\n",
       "      <td>...</td>\n",
       "      <td>95.0</td>\n",
       "      <td>Crazy Eyes</td>\n",
       "      <td>4.3</td>\n",
       "      <td>5.0</td>\n",
       "      <td>[{'credit_id': '52fe491b9251416c750bdac1', 'de...</td>\n",
       "      <td>4</td>\n",
       "      <td>Lukas Haas</td>\n",
       "      <td>3</td>\n",
       "      <td>Adam Sherman</td>\n",
       "      <td>-10000000.0</td>\n",
       "    </tr>\n",
       "    <tr>\n",
       "      <th>25765716</th>\n",
       "      <td>136928</td>\n",
       "      <td>270887</td>\n",
       "      <td>3.0</td>\n",
       "      <td>290556</td>\n",
       "      <td>False</td>\n",
       "      <td>NaN</td>\n",
       "      <td>10000000.0</td>\n",
       "      <td>Thriller</td>\n",
       "      <td>http://www.saradanmedia.co.uk/films/viktor/</td>\n",
       "      <td>ru</td>\n",
       "      <td>...</td>\n",
       "      <td>134.0</td>\n",
       "      <td>Viktor</td>\n",
       "      <td>5.0</td>\n",
       "      <td>2.0</td>\n",
       "      <td>[{'credit_id': '54409fb10e0a2628d9000aa5', 'de...</td>\n",
       "      <td>5</td>\n",
       "      <td>Gérard Depardieu</td>\n",
       "      <td>2</td>\n",
       "      <td>Philippe Martinez</td>\n",
       "      <td>-10000000.0</td>\n",
       "    </tr>\n",
       "    <tr>\n",
       "      <th>25765722</th>\n",
       "      <td>145078</td>\n",
       "      <td>270887</td>\n",
       "      <td>1.0</td>\n",
       "      <td>59095</td>\n",
       "      <td>False</td>\n",
       "      <td>NaN</td>\n",
       "      <td>0.0</td>\n",
       "      <td>Fantasy</td>\n",
       "      <td>NaN</td>\n",
       "      <td>fr</td>\n",
       "      <td>...</td>\n",
       "      <td>0.0</td>\n",
       "      <td>Revelation</td>\n",
       "      <td>2.9</td>\n",
       "      <td>9.0</td>\n",
       "      <td>[{'credit_id': '52fe4981c3a36847f819d97d', 'de...</td>\n",
       "      <td>9</td>\n",
       "      <td>James D'Arcy</td>\n",
       "      <td>8</td>\n",
       "      <td>Stuart Urban</td>\n",
       "      <td>10000000.0</td>\n",
       "    </tr>\n",
       "    <tr>\n",
       "      <th>25765727</th>\n",
       "      <td>159053</td>\n",
       "      <td>270887</td>\n",
       "      <td>5.0</td>\n",
       "      <td>56491</td>\n",
       "      <td>False</td>\n",
       "      <td>NaN</td>\n",
       "      <td>1000000.0</td>\n",
       "      <td>Thriller</td>\n",
       "      <td>NaN</td>\n",
       "      <td>en</td>\n",
       "      <td>...</td>\n",
       "      <td>88.0</td>\n",
       "      <td>In Her Line of Fire</td>\n",
       "      <td>3.3</td>\n",
       "      <td>9.0</td>\n",
       "      <td>[{'credit_id': '52fe4902c3a36847f8184ed1', 'de...</td>\n",
       "      <td>14</td>\n",
       "      <td>Mariel Hemingway</td>\n",
       "      <td>4</td>\n",
       "      <td>Brian Trenchard-Smith</td>\n",
       "      <td>-1000000.0</td>\n",
       "    </tr>\n",
       "    <tr>\n",
       "      <th>25765728</th>\n",
       "      <td>165649</td>\n",
       "      <td>270887</td>\n",
       "      <td>4.0</td>\n",
       "      <td>302042</td>\n",
       "      <td>False</td>\n",
       "      <td>NaN</td>\n",
       "      <td>1500000.0</td>\n",
       "      <td>Thriller</td>\n",
       "      <td>NaN</td>\n",
       "      <td>en</td>\n",
       "      <td>...</td>\n",
       "      <td>88.0</td>\n",
       "      <td>Dead on Campus</td>\n",
       "      <td>4.7</td>\n",
       "      <td>14.0</td>\n",
       "      <td>[{'credit_id': '5461740bc3a3686f2e000e7d', 'de...</td>\n",
       "      <td>15</td>\n",
       "      <td>Katelyn Tarver</td>\n",
       "      <td>15</td>\n",
       "      <td>Curtis Crawford</td>\n",
       "      <td>-1500000.0</td>\n",
       "    </tr>\n",
       "  </tbody>\n",
       "</table>\n",
       "<p>10478 rows × 25 columns</p>\n",
       "</div>"
      ],
      "text/plain": [
       "          movieId  userId  rating      id  adult  \\\n",
       "0             110       1     1.0     197  False   \n",
       "71479         858       1     5.0     238  False   \n",
       "128549       1221       1     5.0     240  False   \n",
       "165228       1246       1     5.0     207  False   \n",
       "190980       1968       1     4.0    2108  False   \n",
       "...           ...     ...     ...     ...    ...   \n",
       "25765703   161030  270123     2.0   93091  False   \n",
       "25765716   136928  270887     3.0  290556  False   \n",
       "25765722   145078  270887     1.0   59095  False   \n",
       "25765727   159053  270887     5.0   56491  False   \n",
       "25765728   165649  270887     4.0  302042  False   \n",
       "\n",
       "                                      belongs_to_collection      budget  \\\n",
       "0                                                       NaN  72000000.0   \n",
       "71479     {'id': 230, 'name': 'The Godfather Collection'...   6000000.0   \n",
       "128549    {'id': 230, 'name': 'The Godfather Collection'...  13000000.0   \n",
       "165228                                                  NaN  16400000.0   \n",
       "190980                                                  NaN   1000000.0   \n",
       "...                                                     ...         ...   \n",
       "25765703                                                NaN  10000000.0   \n",
       "25765716                                                NaN  10000000.0   \n",
       "25765722                                                NaN         0.0   \n",
       "25765727                                                NaN   1000000.0   \n",
       "25765728                                                NaN   1500000.0   \n",
       "\n",
       "            genres                                     homepage  \\\n",
       "0              War                                          NaN   \n",
       "71479        Crime                 http://www.thegodfather.com/   \n",
       "128549       Crime                                          NaN   \n",
       "165228       Drama                                          NaN   \n",
       "190980       Drama                                          NaN   \n",
       "...            ...                                          ...   \n",
       "25765703     Drama                                          NaN   \n",
       "25765716  Thriller  http://www.saradanmedia.co.uk/films/viktor/   \n",
       "25765722   Fantasy                                          NaN   \n",
       "25765727  Thriller                                          NaN   \n",
       "25765728  Thriller                                          NaN   \n",
       "\n",
       "         original_language  ... runtime                   title vote_average  \\\n",
       "0                       en  ...   177.0              Braveheart          7.7   \n",
       "71479                   en  ...   175.0           The Godfather          8.5   \n",
       "128549                  en  ...   200.0  The Godfather: Part II          8.3   \n",
       "165228                  en  ...   129.0      Dead Poets Society          8.1   \n",
       "190980                  en  ...    97.0      The Breakfast Club          7.8   \n",
       "...                    ...  ...     ...                     ...          ...   \n",
       "25765703                en  ...    95.0              Crazy Eyes          4.3   \n",
       "25765716                ru  ...   134.0                  Viktor          5.0   \n",
       "25765722                fr  ...     0.0              Revelation          2.9   \n",
       "25765727                en  ...    88.0     In Her Line of Fire          3.3   \n",
       "25765728                en  ...    88.0          Dead on Campus          4.7   \n",
       "\n",
       "         vote_count                                               crew  \\\n",
       "0            3404.0  [{'credit_id': '52fe4225c3a36847f80079c1', 'de...   \n",
       "71479        6024.0  [{'credit_id': '52fe422bc3a36847f80093db', 'de...   \n",
       "128549       3418.0  [{'credit_id': '52fe422bc3a36847f80094dd', 'de...   \n",
       "165228       2786.0  [{'credit_id': '52fe4227c3a36847f8008045', 'de...   \n",
       "190980       2189.0  [{'credit_id': '52fe4336c3a36847f8042e63', 'de...   \n",
       "...             ...                                                ...   \n",
       "25765703        5.0  [{'credit_id': '52fe491b9251416c750bdac1', 'de...   \n",
       "25765716        2.0  [{'credit_id': '54409fb10e0a2628d9000aa5', 'de...   \n",
       "25765722        9.0  [{'credit_id': '52fe4981c3a36847f819d97d', 'de...   \n",
       "25765727        9.0  [{'credit_id': '52fe4902c3a36847f8184ed1', 'de...   \n",
       "25765728       14.0  [{'credit_id': '5461740bc3a3686f2e000e7d', 'de...   \n",
       "\n",
       "          cast_size             actor  crew_size               director  \\\n",
       "0                55        Mel Gibson         67             Mel Gibson   \n",
       "71479            58     Marlon Brando         42   Francis Ford Coppola   \n",
       "128549           84         Al Pacino         53   Francis Ford Coppola   \n",
       "165228           15    Robin Williams         11             Peter Weir   \n",
       "190980           13    Emilio Estevez         14            John Hughes   \n",
       "...             ...               ...        ...                    ...   \n",
       "25765703          4        Lukas Haas          3           Adam Sherman   \n",
       "25765716          5  Gérard Depardieu          2      Philippe Martinez   \n",
       "25765722          9      James D'Arcy          8           Stuart Urban   \n",
       "25765727         14  Mariel Hemingway          4  Brian Trenchard-Smith   \n",
       "25765728         15    Katelyn Tarver         15        Curtis Crawford   \n",
       "\n",
       "               profit  \n",
       "0         138000000.0  \n",
       "71479     239066411.0  \n",
       "128549     34542841.0  \n",
       "165228    219460116.0  \n",
       "190980     50525171.0  \n",
       "...               ...  \n",
       "25765703  -10000000.0  \n",
       "25765716  -10000000.0  \n",
       "25765722   10000000.0  \n",
       "25765727   -1000000.0  \n",
       "25765728   -1500000.0  \n",
       "\n",
       "[10478 rows x 25 columns]"
      ]
     },
     "execution_count": 69,
     "metadata": {},
     "output_type": "execute_result"
    }
   ],
   "source": [
    "final2df"
   ]
  },
  {
   "cell_type": "code",
   "execution_count": 70,
   "metadata": {},
   "outputs": [],
   "source": [
    "final4df =  final3df.drop(['userId', 'rating'], axis=1)"
   ]
  },
  {
   "cell_type": "markdown",
   "metadata": {},
   "source": [
    "# Removing budget and revenue = 0"
   ]
  },
  {
   "cell_type": "code",
   "execution_count": 71,
   "metadata": {},
   "outputs": [],
   "source": [
    "revenueind = final4df[final4df.revenue == 0].index"
   ]
  },
  {
   "cell_type": "code",
   "execution_count": 72,
   "metadata": {},
   "outputs": [],
   "source": [
    "final5df = final4df.drop(revenueind, axis=0)"
   ]
  },
  {
   "cell_type": "code",
   "execution_count": 73,
   "metadata": {},
   "outputs": [],
   "source": [
    "budgetind = final5df[final5df.budget == 0].index"
   ]
  },
  {
   "cell_type": "code",
   "execution_count": 74,
   "metadata": {},
   "outputs": [],
   "source": [
    "final6df = final5df.drop(budgetind, axis=0)"
   ]
  },
  {
   "cell_type": "code",
   "execution_count": 75,
   "metadata": {},
   "outputs": [],
   "source": [
    "final7df = final6df.drop('crew', axis=1)"
   ]
  },
  {
   "cell_type": "code",
   "execution_count": 77,
   "metadata": {},
   "outputs": [],
   "source": [
    "final7df.to_csv('FinalAddDf')"
   ]
  },
  {
   "cell_type": "code",
   "execution_count": 81,
   "metadata": {},
   "outputs": [],
   "source": [
    "ourMaindf = pd.read_csv('FinalAdddf', index_col=0)"
   ]
  },
  {
   "cell_type": "markdown",
   "metadata": {},
   "source": [
    "### *Evaluating Final Shape of our dataframe*"
   ]
  },
  {
   "cell_type": "code",
   "execution_count": 83,
   "metadata": {},
   "outputs": [
    {
     "name": "stdout",
     "output_type": "stream",
     "text": [
      "our final working DF shape 5297\n"
     ]
    }
   ],
   "source": [
    "print('our final working DF shape', ourMaindf.shape[0])"
   ]
  }
 ],
 "metadata": {
  "kernelspec": {
   "display_name": "Python 3",
   "language": "python",
   "name": "python3"
  },
  "language_info": {
   "codemirror_mode": {
    "name": "ipython",
    "version": 3
   },
   "file_extension": ".py",
   "mimetype": "text/x-python",
   "name": "python",
   "nbconvert_exporter": "python",
   "pygments_lexer": "ipython3",
   "version": "3.8.3"
  }
 },
 "nbformat": 4,
 "nbformat_minor": 4
}
